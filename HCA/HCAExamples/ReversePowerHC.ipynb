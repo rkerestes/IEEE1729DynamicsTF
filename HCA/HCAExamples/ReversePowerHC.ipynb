{
 "cells": [
  {
   "cell_type": "markdown",
   "id": "12c5128445244258",
   "metadata": {
    "collapsed": false
   },
   "source": [
    "# Reverse Power Hosting Capacity for a New Generator\n",
    "\n",
    "In this example, we calculate the hosting capacity for a new generator at bus \"bus_1101\" using the Reverse Power metric. This example uses Python to control OpenDSS.\n",
    "\n",
    "1. OpenDSS: <https://www.epri.com/pages/sa/opendss>\n",
    "2. py-dss-interface: <https://pypi.org/project/py-dss-interface/>"
   ]
  },
  {
   "cell_type": "markdown",
   "id": "17e9463dd88643b5",
   "metadata": {
    "collapsed": false
   },
   "source": [
    "Importing third-party Python packages and modules from this repository."
   ]
  },
  {
   "cell_type": "code",
   "execution_count": 2,
   "id": "9b3406edbcc85dcc",
   "metadata": {
    "collapsed": false,
    "ExecuteTime": {
     "end_time": "2024-09-05T11:23:31.056193200Z",
     "start_time": "2024-09-05T11:23:31.000930600Z"
    }
   },
   "outputs": [],
   "source": [
    "# -*- coding: utf-8 -*-\n",
    "# @Author  : Paulo Radatz\n",
    "# @Email   : pradatz@epri.com"
   ]
  },
  {
   "cell_type": "code",
   "execution_count": 3,
   "id": "e6580342b6418197",
   "metadata": {
    "collapsed": false,
    "ExecuteTime": {
     "end_time": "2024-09-05T11:23:31.339825300Z",
     "start_time": "2024-09-05T11:23:31.007758200Z"
    }
   },
   "outputs": [],
   "source": [
    "import py_dss_interface\n",
    "import numpy as np"
   ]
  },
  {
   "cell_type": "code",
   "execution_count": 4,
   "id": "d65d4c77102f0b03",
   "metadata": {
    "collapsed": false,
    "ExecuteTime": {
     "end_time": "2024-09-05T11:23:31.902936700Z",
     "start_time": "2024-09-05T11:23:31.340198Z"
    }
   },
   "outputs": [],
   "source": [
    "from FeederCondition import FeederCondition\n",
    "from HCSteps import HCSteps\n",
    "from HCSeetings import HCSettings"
   ]
  },
  {
   "cell_type": "markdown",
   "id": "5f4b916a652ee74a",
   "metadata": {
    "collapsed": false
   },
   "source": [
    "## Feeder Model\n",
    "\n",
    "Hosting capacity analysis requires a feeder model. You can find the feeder used in this example at <https://github.com/rkerestes/IEEE1729TestSystems/tree/main/HCA/HCABase.dss>"
   ]
  },
  {
   "cell_type": "code",
   "execution_count": 5,
   "id": "f9d33105be576431",
   "metadata": {
    "collapsed": false,
    "ExecuteTime": {
     "end_time": "2024-09-05T11:23:31.915537Z",
     "start_time": "2024-09-05T11:23:31.905731300Z"
    }
   },
   "outputs": [],
   "source": [
    "dss_file = r\"C:\\PauloRadatz\\GitHub\\IEEE1729TestSystems\\HCA\\HCABase.dss\""
   ]
  },
  {
   "cell_type": "code",
   "execution_count": 6,
   "id": "b68949caed7d1f42",
   "metadata": {
    "collapsed": false,
    "ExecuteTime": {
     "end_time": "2024-09-05T11:23:31.969499500Z",
     "start_time": "2024-09-05T11:23:31.910215300Z"
    }
   },
   "outputs": [
    {
     "data": {
      "text/plain": "''"
     },
     "execution_count": 6,
     "metadata": {},
     "output_type": "execute_result"
    }
   ],
   "source": [
    "dss = py_dss_interface.DSS()\n",
    "dss.text(f\"compile [{dss_file}]\")\n",
    "dss.text(\"edit EnergyMeter.m2 enabled=no\")"
   ]
  },
  {
   "cell_type": "markdown",
   "id": "7d6ab16425dd354a",
   "metadata": {
    "collapsed": false
   },
   "source": [
    "## Bus Selection\n",
    "\n",
    "The bus selection is indicated below."
   ]
  },
  {
   "cell_type": "code",
   "execution_count": 7,
   "id": "e976a3ba3397a583",
   "metadata": {
    "collapsed": false,
    "ExecuteTime": {
     "end_time": "2024-09-05T11:23:31.970496Z",
     "start_time": "2024-09-05T11:23:31.963078800Z"
    }
   },
   "outputs": [],
   "source": [
    "bus = \"bus_1101\""
   ]
  },
  {
   "cell_type": "markdown",
   "id": "79611021303710c8",
   "metadata": {
    "collapsed": false
   },
   "source": [
    "## Load and Connected Generation Models\n",
    "\n",
    "In this example, generator and load models are considered constant power. You can change this in OpenDSS if desired."
   ]
  },
  {
   "cell_type": "code",
   "execution_count": 8,
   "id": "86a5615c91a427a9",
   "metadata": {
    "collapsed": false,
    "ExecuteTime": {
     "end_time": "2024-09-05T11:23:31.971493200Z",
     "start_time": "2024-09-05T11:23:31.966917200Z"
    }
   },
   "outputs": [],
   "source": [
    "FeederCondition.set_load_model(dss)\n",
    "FeederCondition.set_generator_model(dss)"
   ]
  },
  {
   "cell_type": "markdown",
   "id": "ed0548b20a3cc2cc",
   "metadata": {
    "collapsed": false
   },
   "source": [
    "## Feeder Condition | Hosting Capacity Impact Factors\n",
    "Reverse power hosting capacity should be based on conditions of maximum generation output coinciding with minimum gross load on the primary circuit. It can be measured in specific system equipment, such as protective elements, voltage regulation equipment, substation bus, and/or other equipment. The maximum generation includes the maximum output of the new generator plus any connected generators. On the other hand, the minimum load is defined as the lowest load consumption across the entire timeframe. If more information on the coincidence of load consumption, connected generators' generation, and the new generator's generation is available, it could be taken into account to set the maximum generation and minimum load accordingly.\n",
    "\n",
    "In this case, the connected generators are assumed to generate at 100% capacity, and the minimum load is considered to be 20% of the total load.\n",
    "\n",
    "Besides the generator and load level impact factors, in this example, we can also consider whether the capacitor is ON or OFF. We can assume the capacitor is OFF, as the minimum demand condition typically results in switched capacitors being OFF."
   ]
  },
  {
   "cell_type": "code",
   "execution_count": 9,
   "id": "35e41754c2fcad0d",
   "metadata": {
    "collapsed": false,
    "ExecuteTime": {
     "end_time": "2024-09-05T11:23:31.976267900Z",
     "start_time": "2024-09-05T11:23:31.972567500Z"
    }
   },
   "outputs": [],
   "source": [
    "hc_settings = HCSettings(load_mult=0.2, capacitor=False, add_existing_ger=True, mult_existing_gen=1)"
   ]
  },
  {
   "cell_type": "code",
   "execution_count": 10,
   "id": "c2ec4f8979d5a090",
   "metadata": {
    "collapsed": false,
    "ExecuteTime": {
     "end_time": "2024-09-05T11:23:31.989124400Z",
     "start_time": "2024-09-05T11:23:31.977758800Z"
    }
   },
   "outputs": [],
   "source": [
    "FeederCondition.set_capacitor_status(dss, capacitor=hc_settings.capacitor)\n",
    "FeederCondition.set_load_level_condition(dss, load_mult=hc_settings.load_mult)\n",
    "FeederCondition.consider_existing_gen(dss, hc_settings.add_existing_ger)"
   ]
  },
  {
   "cell_type": "markdown",
   "id": "4b29e5794fc3cec",
   "metadata": {
    "collapsed": false
   },
   "source": [
    "## Adding a New Generator to the Feeder Model\n",
    "\n",
    "We add a generator model as constant power to the feeder model. In this example, the generator is 3-phase."
   ]
  },
  {
   "cell_type": "code",
   "execution_count": 11,
   "id": "8181ebe41e9958a9",
   "metadata": {
    "collapsed": false,
    "ExecuteTime": {
     "end_time": "2024-09-05T11:23:32.038490800Z",
     "start_time": "2024-09-05T11:23:31.988615300Z"
    }
   },
   "outputs": [],
   "source": [
    "dss.circuit.set_active_bus(bus)\n",
    "kv = dss.bus.kv_base * np.sqrt(3)\n",
    "gen_bus = {\"gen\": dss.bus.name}\n",
    "gen_kv = {\"gen\": kv}\n",
    "HCSteps.add_gen(dss, gen_bus, gen_kv)"
   ]
  },
  {
   "cell_type": "markdown",
   "id": "a0839533a5800f53",
   "metadata": {
    "collapsed": false
   },
   "source": [
    "## Hosting Capacity Iterative Process\n",
    "\n",
    "The hosting capacity iterative process gradually increases the new generator's size and checks for violations. The process ends if there's a reverse power violation at the equipment being considered—in this case, only the substation bus—or if the generator size reaches the maximum analyzed size of 10 MW. A reverse power violation occurs when the sum of each phase's active power is negative, meaning active power flows from the feeder to the substation.\n",
    "\n",
    "Thus, the hosting capacity corresponds to the generator size from the previous iteration before the violation."
   ]
  },
  {
   "cell_type": "code",
   "execution_count": 12,
   "id": "d82c1f74f58ee619",
   "metadata": {
    "collapsed": false,
    "ExecuteTime": {
     "end_time": "2024-09-05T11:23:32.039520600Z",
     "start_time": "2024-09-05T11:23:31.995111400Z"
    }
   },
   "outputs": [],
   "source": [
    "i = 0\n",
    "while i * HCSteps.step_kw < HCSteps.max_kw:\n",
    "    i = i + 1\n",
    "    i_kw = i * HCSteps.step_kw\n",
    "    gen_kw = {\"gen\": i_kw}\n",
    "\n",
    "    # Set Penetration Level\n",
    "    HCSteps.increase_gen(dss, gen_kw)\n",
    "\n",
    "    # Perform Power flow\n",
    "    HCSteps.solve_powerflow(dss)\n",
    "\n",
    "    # Violation?\n",
    "    if HCSteps.check_reverse_power_violation(dss):\n",
    "        hosting_capacity_value_kw = (i - 1) * HCSteps.step_kw\n",
    "        break"
   ]
  },
  {
   "cell_type": "code",
   "execution_count": 13,
   "id": "f02a7ae800942706",
   "metadata": {
    "collapsed": false,
    "ExecuteTime": {
     "end_time": "2024-09-05T11:23:32.053973300Z",
     "start_time": "2024-09-05T11:23:32.013235300Z"
    }
   },
   "outputs": [
    {
     "name": "stdout",
     "output_type": "stream",
     "text": [
      "Hosting Capacity = 0.28 MW\n"
     ]
    }
   ],
   "source": [
    "print(f\"Hosting Capacity = {hosting_capacity_value_kw / 1000} MW\")"
   ]
  },
  {
   "cell_type": "markdown",
   "id": "0ab2e71b-8c26-4aad-9e23-cdfa8bfc2d9f",
   "metadata": {
    "collapsed": false
   },
   "source": [
    "## Hosting Capacity Result\n",
    "\n",
    "This example demonstrates how to calculate reverse power flow hosting capacity using OpenDSS controlled by Python. Note that the hosting capacity result is strongly related to the feeder conditions considered for the analysis. In this case, the conditions are a load level of 20%, all generators at 100% output, and capacitors off. This scenario is likely the worst condition, and the feeder might not even operate under it. Therefore, to better represent the worst condition the feeder can actually operate under, more operational information is needed. This includes control elements, load comsumption, and generator production coincidence, which can then be considered in the hosting capacity analysis. However, sometimes this information is not available or known.\n",
    "\n",
    "More impact factors can be considered in the analysis, such as smart inverter functionalities.\n",
    "\n",
    "The model itself can also significantly impact the hosting capacity results. For instance, whether the lines are modeled as positive and negative sequences, which load and generation models are considered, etc."
   ]
  }
 ],
 "metadata": {
  "kernelspec": {
   "display_name": "Python 3 (ipykernel)",
   "language": "python",
   "name": "python3"
  },
  "language_info": {
   "codemirror_mode": {
    "name": "ipython",
    "version": 3
   },
   "file_extension": ".py",
   "mimetype": "text/x-python",
   "name": "python",
   "nbconvert_exporter": "python",
   "pygments_lexer": "ipython3",
   "version": "3.11.4"
  }
 },
 "nbformat": 4,
 "nbformat_minor": 5
}
