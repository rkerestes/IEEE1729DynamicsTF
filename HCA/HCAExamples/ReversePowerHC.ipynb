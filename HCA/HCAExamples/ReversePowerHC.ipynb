{
 "cells": [
  {
   "cell_type": "markdown",
   "source": [
    "# Reverse Power Hosting Capacity for a New Generator\n",
    "\n",
    "In this example, we calculate the hosting capacity for a new generator at bus \"bus_1101\" using the Reverse Power metric. This example uses Python to control OpenDSS.\n",
    "\n",
    "1. OpenDSS: <https://www.epri.com/pages/sa/opendss>\n",
    "2. py-dss-interface: <https://pypi.org/project/py-dss-interface/>"
   ],
   "metadata": {
    "collapsed": false
   },
   "id": "12c5128445244258"
  },
  {
   "cell_type": "markdown",
   "source": [
    "Importing third-party Python packages and modules from this repository."
   ],
   "metadata": {
    "collapsed": false
   },
   "id": "17e9463dd88643b5"
  },
  {
   "cell_type": "code",
   "execution_count": 1,
   "outputs": [],
   "source": [
    "# -*- coding: utf-8 -*-\n",
    "# @Author  : Paulo Radatz\n",
    "# @Email   : pradatz@epri.com"
   ],
   "metadata": {
    "collapsed": false,
    "ExecuteTime": {
     "end_time": "2024-08-19T19:02:45.851829700Z",
     "start_time": "2024-08-19T19:02:45.845068500Z"
    }
   },
   "id": "9b3406edbcc85dcc"
  },
  {
   "cell_type": "code",
   "execution_count": 2,
   "outputs": [],
   "source": [
    "import py_dss_interface\n",
    "import numpy as np"
   ],
   "metadata": {
    "collapsed": false,
    "ExecuteTime": {
     "end_time": "2024-08-19T19:02:46.022555600Z",
     "start_time": "2024-08-19T19:02:45.848840100Z"
    }
   },
   "id": "e6580342b6418197"
  },
  {
   "cell_type": "code",
   "execution_count": 3,
   "outputs": [],
   "source": [
    "from FeederCondition import FeederCondition\n",
    "from HCSteps import HCSteps\n",
    "from HCSeetings import HCSettings"
   ],
   "metadata": {
    "collapsed": false,
    "ExecuteTime": {
     "end_time": "2024-08-19T19:02:46.479145100Z",
     "start_time": "2024-08-19T19:02:46.023681600Z"
    }
   },
   "id": "d65d4c77102f0b03"
  },
  {
   "cell_type": "markdown",
   "source": [
    "## Feeder Model\n",
    "\n",
    "Hosting capacity analysis requires a feeder model. You can find the feeder used in this example at <https://github.com/rkerestes/IEEE1729DynamicsTF/tree/main/HCA/HCABase.dss>"
   ],
   "metadata": {
    "collapsed": false
   },
   "id": "5f4b916a652ee74a"
  },
  {
   "cell_type": "code",
   "execution_count": 4,
   "outputs": [],
   "source": [
    "dss_file = r\"C:\\PauloRadatz\\GitHub\\IEEE1729DynamicsTF\\HCA\\HCABase.dss\""
   ],
   "metadata": {
    "collapsed": false,
    "ExecuteTime": {
     "end_time": "2024-08-19T19:02:46.494718800Z",
     "start_time": "2024-08-19T19:02:46.480643Z"
    }
   },
   "id": "f9d33105be576431"
  },
  {
   "cell_type": "code",
   "execution_count": 5,
   "outputs": [
    {
     "data": {
      "text/plain": "''"
     },
     "execution_count": 5,
     "metadata": {},
     "output_type": "execute_result"
    }
   ],
   "source": [
    "dss = py_dss_interface.DSS()\n",
    "dss.text(f\"compile [{dss_file}]\")\n",
    "dss.text(\"edit EnergyMeter.m2 enabled=no\")"
   ],
   "metadata": {
    "collapsed": false,
    "ExecuteTime": {
     "end_time": "2024-08-19T19:02:46.542894200Z",
     "start_time": "2024-08-19T19:02:46.486062200Z"
    }
   },
   "id": "b68949caed7d1f42"
  },
  {
   "cell_type": "markdown",
   "source": [
    "## Bus Selection\n",
    "\n",
    "The bus selection is indicated below."
   ],
   "metadata": {
    "collapsed": false
   },
   "id": "7d6ab16425dd354a"
  },
  {
   "cell_type": "code",
   "execution_count": 6,
   "outputs": [],
   "source": [
    "bus = \"bus_1101\""
   ],
   "metadata": {
    "collapsed": false,
    "ExecuteTime": {
     "end_time": "2024-08-19T19:02:46.543420Z",
     "start_time": "2024-08-19T19:02:46.532059200Z"
    }
   },
   "id": "e976a3ba3397a583"
  },
  {
   "cell_type": "markdown",
   "source": [
    "## Load and Connected Generation Models\n",
    "\n",
    "In this example, generator and load models are considered constant power. You can change this in OpenDSS if desired."
   ],
   "metadata": {
    "collapsed": false
   },
   "id": "79611021303710c8"
  },
  {
   "cell_type": "code",
   "execution_count": 7,
   "outputs": [],
   "source": [
    "FeederCondition.set_load_model(dss)\n",
    "FeederCondition.set_generator_model(dss)"
   ],
   "metadata": {
    "collapsed": false,
    "ExecuteTime": {
     "end_time": "2024-08-19T19:02:46.566692200Z",
     "start_time": "2024-08-19T19:02:46.536405300Z"
    }
   },
   "id": "86a5615c91a427a9"
  },
  {
   "cell_type": "markdown",
   "source": [
    "## Feeder Condition | Hosting Capacity Impact Factors\n",
    "Reverse power hosting capacity should be based on conditions of maximum generation output coinciding with minimum gross load on the primary circuit. It can be measured in specific system equipment, such as protective elements, voltage regulation equipment, substation bus, and/or other equipment. The maximum generation includes the maximum output of the new generator plus any connected generators. On the other hand, the minimum load is defined as the lowest load consumption across the entire timeframe. If more information on the coincidence of load consumption, connected generators' generation, and the new generator's generation is available, it could be taken into account to set the maximum generation and minimum load accordingly.\n",
    "\n",
    "In this case, the connected generators are assumed to generate at 100% capacity, and the minimum load is considered to be 20% of the total load.\n",
    "\n",
    "Besides the generator and load level impact factors, in this example, we can also consider whether the capacitor is ON or OFF. We can assume the capacitor is OFF, as the minimum demand condition typically results in switched capacitors being OFF."
   ],
   "metadata": {
    "collapsed": false
   },
   "id": "ed0548b20a3cc2cc"
  },
  {
   "cell_type": "code",
   "execution_count": 8,
   "outputs": [],
   "source": [
    "hc_settings = HCSettings(load_mult=0.2, capacitor=False, add_existing_ger=True, mult_existing_gen=1)"
   ],
   "metadata": {
    "collapsed": false,
    "ExecuteTime": {
     "end_time": "2024-08-19T19:02:46.567127300Z",
     "start_time": "2024-08-19T19:02:46.546661300Z"
    }
   },
   "id": "35e41754c2fcad0d"
  },
  {
   "cell_type": "code",
   "execution_count": 9,
   "outputs": [],
   "source": [
    "FeederCondition.set_capacitor_status(dss, capacitor=hc_settings.capacitor)\n",
    "FeederCondition.set_load_level_condition(dss, load_mult=hc_settings.load_mult)\n",
    "FeederCondition.consider_existing_gen(dss, hc_settings.add_existing_ger)"
   ],
   "metadata": {
    "collapsed": false,
    "ExecuteTime": {
     "end_time": "2024-08-19T19:02:46.567127300Z",
     "start_time": "2024-08-19T19:02:46.553263900Z"
    }
   },
   "id": "c2ec4f8979d5a090"
  },
  {
   "cell_type": "markdown",
   "source": [
    "## Adding a New Generator to the Feeder Model\n",
    "\n",
    "We add a generator model as constant power to the feeder model. In this example, the generator is 3-phase."
   ],
   "metadata": {
    "collapsed": false
   },
   "id": "4b29e5794fc3cec"
  },
  {
   "cell_type": "code",
   "execution_count": 10,
   "outputs": [],
   "source": [
    "dss.circuit.set_active_bus(bus)\n",
    "kv = dss.bus.kv_base * np.sqrt(3)\n",
    "gen_bus = {\"gen\": dss.bus.name}\n",
    "gen_kv = {\"gen\": kv}\n",
    "HCSteps.add_gen(dss, gen_bus, gen_kv)"
   ],
   "metadata": {
    "collapsed": false,
    "ExecuteTime": {
     "end_time": "2024-08-19T19:02:46.614789400Z",
     "start_time": "2024-08-19T19:02:46.564424500Z"
    }
   },
   "id": "8181ebe41e9958a9"
  },
  {
   "cell_type": "markdown",
   "source": [
    "## Hosting Capacity Iterative Process\n",
    "\n",
    "The hosting capacity iterative process gradually increases the new generator's size and checks for violations. The process ends if there's a reverse power violation at the equipment being considered—in this case, only the substation bus—or if the generator size reaches the maximum analyzed size of 10 MW. A reverse power violation occurs when the sum of each phase's active power is negative, meaning active power flows from the feeder to the substation.\n",
    "\n",
    "Thus, the hosting capacity corresponds to the generator size from the previous iteration before the violation."
   ],
   "metadata": {
    "collapsed": false
   },
   "id": "a0839533a5800f53"
  },
  {
   "cell_type": "code",
   "execution_count": 11,
   "outputs": [],
   "source": [
    "i = 0\n",
    "while i * HCSteps.step_kw < HCSteps.max_kw:\n",
    "    i = i + 1\n",
    "    i_kw = i * HCSteps.step_kw\n",
    "    gen_kw = {\"gen\": i_kw}\n",
    "\n",
    "    # Set Penetration Level\n",
    "    HCSteps.increase_gen(dss, gen_kw)\n",
    "\n",
    "    # Perform Power flow\n",
    "    HCSteps.solve_powerflow(dss)\n",
    "\n",
    "    # Violation?\n",
    "    if HCSteps.check_reverse_power_violation(dss):\n",
    "        hosting_capacity_value_kw = (i - 1) * HCSteps.step_kw\n",
    "        break"
   ],
   "metadata": {
    "collapsed": false,
    "ExecuteTime": {
     "end_time": "2024-08-19T19:02:46.633417200Z",
     "start_time": "2024-08-19T19:02:46.570710900Z"
    }
   },
   "id": "d82c1f74f58ee619"
  },
  {
   "cell_type": "code",
   "execution_count": 12,
   "outputs": [
    {
     "name": "stdout",
     "output_type": "stream",
     "text": [
      "Hosting Capacity = 0.28 MW\n"
     ]
    }
   ],
   "source": [
    "print(f\"Hosting Capacity = {hosting_capacity_value_kw / 1000} MW\")"
   ],
   "metadata": {
    "collapsed": false,
    "ExecuteTime": {
     "end_time": "2024-08-19T19:02:46.633913900Z",
     "start_time": "2024-08-19T19:02:46.589621800Z"
    }
   },
   "id": "f02a7ae800942706"
  },
  {
   "cell_type": "markdown",
   "source": [
    "## Hosting Capacity Result\n",
    "\n",
    "This example demonstrates how to calculate thermal rating hosting capacity using OpenDSS controlled by Python. Note that the hosting capacity result is strongly related to the feeder conditions considered for the analysis. In this case, the conditions are a load level of 20%, all generators at 100% output, and capacitors off. This scenario is likely the worst condition, and the feeder might not even operate under it. Therefore, to better represent the worst condition the feeder can actually operate under, more operational information is needed. This includes control elements, load comsumption, and generator production coincidence, which can then be considered in the hosting capacity analysis. However, sometimes this information is not available or known.\n",
    "\n",
    "More impact factors can be considered in the analysis, such as smart inverter functionalities.\n",
    "\n",
    "The model itself can also significantly impact the hosting capacity results. For instance, whether the lines are modeled as positive and negative sequences, which load and generation models are considered, etc."
   ],
   "metadata": {
    "collapsed": false
   },
   "id": "85af5e42c4c1cc27"
  }
 ],
 "metadata": {
  "kernelspec": {
   "display_name": "Python 3",
   "language": "python",
   "name": "python3"
  },
  "language_info": {
   "codemirror_mode": {
    "name": "ipython",
    "version": 2
   },
   "file_extension": ".py",
   "mimetype": "text/x-python",
   "name": "python",
   "nbconvert_exporter": "python",
   "pygments_lexer": "ipython2",
   "version": "2.7.6"
  }
 },
 "nbformat": 4,
 "nbformat_minor": 5
}
