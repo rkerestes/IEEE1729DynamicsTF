{
 "cells": [
  {
   "cell_type": "markdown",
   "id": "4d061412-f2c5-42c7-9880-eb983f228575",
   "metadata": {},
   "source": [
    "# Thermal Rating Hosting Capacity for a New Generator\n",
    "\n",
    "In this example, we calculate the hosting capacity for a new generator at bus \"bus_1101\" using the thermal rating metric. This example uses Python to control OpenDSS.\n",
    "\n",
    "1. OpenDSS: <https://www.epri.com/pages/sa/opendss>\n",
    "2. py-dss-interface: <https://pypi.org/project/py-dss-interface/>"
   ]
  },
  {
   "cell_type": "markdown",
   "id": "55d2d1e63cfe0c93",
   "metadata": {
    "collapsed": false
   },
   "source": [
    "Importing third-party Python packages and modules from this repository."
   ]
  },
  {
   "cell_type": "code",
   "execution_count": 49,
   "id": "initial_id",
   "metadata": {
    "ExecuteTime": {
     "end_time": "2024-08-06T19:15:04.452573600Z",
     "start_time": "2024-08-06T19:15:04.354276300Z"
    }
   },
   "outputs": [],
   "source": [
    "# -*- coding: utf-8 -*-\n",
    "# @Author  : Paulo Radatz\n",
    "# @Email   : pradatz@epri.com"
   ]
  },
  {
   "cell_type": "code",
   "execution_count": 50,
   "id": "3959228fe624ef51",
   "metadata": {
    "collapsed": false,
    "ExecuteTime": {
     "end_time": "2024-08-06T19:15:04.483468600Z",
     "start_time": "2024-08-06T19:15:04.357256800Z"
    }
   },
   "outputs": [],
   "source": [
    "import py_dss_interface\n",
    "import numpy as np"
   ]
  },
  {
   "cell_type": "code",
   "execution_count": 51,
   "id": "3c7aecda5a02fc45",
   "metadata": {
    "collapsed": false,
    "ExecuteTime": {
     "end_time": "2024-08-06T19:15:04.483468600Z",
     "start_time": "2024-08-06T19:15:04.361110600Z"
    }
   },
   "outputs": [],
   "source": [
    "from FeederCondition import FeederCondition\n",
    "from HCSteps import HCSteps\n",
    "from HCSeetings import HCSettings"
   ]
  },
  {
   "cell_type": "markdown",
   "id": "1dd98a72-6170-481b-8aa6-66656492d86d",
   "metadata": {
    "ExecuteTime": {
     "end_time": "2024-03-30T13:38:07.484198600Z",
     "start_time": "2024-03-30T13:38:07.470395400Z"
    },
    "collapsed": false
   },
   "source": [
    "## Feeder Model\n",
    "\n",
    "Hosting capacity analysis requires a feeder model. You can find the feeder used in this example at <https://github.com/rkerestes/IEEE1729DynamicsTF/tree/main/HCA/HCABase.dss>"
   ]
  },
  {
   "cell_type": "code",
   "execution_count": 52,
   "id": "370b6951-ac5a-485f-84d4-eef690a6c7ec",
   "metadata": {
    "collapsed": false,
    "ExecuteTime": {
     "end_time": "2024-08-06T19:15:04.486578600Z",
     "start_time": "2024-08-06T19:15:04.369734800Z"
    }
   },
   "outputs": [],
   "source": [
    "dss_file = r\"C:\\PauloRadatz\\GitHub\\IEEE1729DynamicsTF\\HCA\\HCABase.dss\""
   ]
  },
  {
   "cell_type": "code",
   "execution_count": 53,
   "id": "a32d73928c4a060e",
   "metadata": {
    "collapsed": false,
    "ExecuteTime": {
     "end_time": "2024-08-06T19:15:04.526446100Z",
     "start_time": "2024-08-06T19:15:04.372723Z"
    }
   },
   "outputs": [
    {
     "data": {
      "text/plain": "''"
     },
     "execution_count": 53,
     "metadata": {},
     "output_type": "execute_result"
    }
   ],
   "source": [
    "dss = py_dss_interface.DSS()\n",
    "dss.text(f\"compile [{dss_file}]\")\n",
    "dss.text(\"edit EnergyMeter.m2 enabled=no\")"
   ]
  },
  {
   "cell_type": "markdown",
   "id": "38f4fdd3-bc3d-4872-b685-a41e2d359971",
   "metadata": {},
   "source": [
    "## Bus Selection\n",
    "\n",
    "The bus selection is indicated below."
   ]
  },
  {
   "cell_type": "code",
   "execution_count": 54,
   "id": "830c87183625d63e",
   "metadata": {
    "collapsed": false,
    "ExecuteTime": {
     "end_time": "2024-08-06T19:15:04.527443Z",
     "start_time": "2024-08-06T19:15:04.388703300Z"
    }
   },
   "outputs": [],
   "source": [
    "bus = \"bus_1101\""
   ]
  },
  {
   "cell_type": "markdown",
   "id": "b0261e90-5a1c-4fed-964e-22c91824051c",
   "metadata": {},
   "source": [
    "## Load and Connected Generation Models\n",
    "\n",
    "In this example, generator and load models are considered constant power. You can change this in OpenDSS if desired."
   ]
  },
  {
   "cell_type": "code",
   "execution_count": 55,
   "id": "3f360c5baf483cc8",
   "metadata": {
    "collapsed": false,
    "ExecuteTime": {
     "end_time": "2024-08-06T19:15:04.527443Z",
     "start_time": "2024-08-06T19:15:04.391906700Z"
    }
   },
   "outputs": [],
   "source": [
    "FeederCondition.set_load_model(dss)\n",
    "FeederCondition.set_generator_model(dss)"
   ]
  },
  {
   "cell_type": "markdown",
   "id": "989e9e13-5c42-448d-a0c2-5c6a77fd1d42",
   "metadata": {},
   "source": [
    "## Feeder Condition | Hosting Capacity Impact Factors\n",
    "\n",
    "The thermal rating hosting capacity should evaluate every piece of equipment under the worst-case conditions. In this particular case, the worst-case condition is maximum generation and minimum load. The maximum generation includes the maximum output of the new generator plus any connected generators. On the other hand, the minimum load is defined as the lowest load consumption across the entire timeframe. If more information on the coincidence of load consumption, connected generators' generation, and the new generator's generation is available, it could be taken into account to set the maximum generation and minimum load accordingly.\n",
    "\n",
    "In this case, the connected generators are assumed to generate at 100% capacity, and the minimum load is considered to be 20% of the total load.\n",
    "\n",
    "Besides the generator and load level impact factors, in this example, we can also consider whether the capacitor is ON or OFF. We can assume that the capacitor is OFF since this condition likely results in high voltages across the entire system."
   ]
  },
  {
   "cell_type": "code",
   "execution_count": 56,
   "id": "b17dd9d0da637e19",
   "metadata": {
    "collapsed": false,
    "ExecuteTime": {
     "end_time": "2024-08-06T19:15:04.544966800Z",
     "start_time": "2024-08-06T19:15:04.396203300Z"
    }
   },
   "outputs": [],
   "source": [
    "hc_settings = HCSettings(load_mult=0.2, capacitor=False, add_existing_ger=True, mult_existing_gen=1)"
   ]
  },
  {
   "cell_type": "code",
   "execution_count": 57,
   "id": "dc03e45e-e0dd-44e6-99e8-a71149e6bcf3",
   "metadata": {
    "ExecuteTime": {
     "end_time": "2024-08-06T19:15:04.545274400Z",
     "start_time": "2024-08-06T19:15:04.401626600Z"
    }
   },
   "outputs": [],
   "source": [
    "FeederCondition.set_capacitor_status(dss, capacitor=hc_settings.capacitor)\n",
    "FeederCondition.set_load_level_condition(dss, load_mult=hc_settings.load_mult)\n",
    "FeederCondition.consider_existing_gen(dss, hc_settings.add_existing_ger)"
   ]
  },
  {
   "cell_type": "markdown",
   "id": "1d601d16-a648-4725-b30c-0dc249258fc5",
   "metadata": {
    "ExecuteTime": {
     "start_time": "2024-03-30T17:57:03.730202800Z"
    }
   },
   "source": [
    "## Adding a New Generator to the Feeder Model\n",
    "\n",
    "We add a generator model as constant power to the feeder model. In this example, the generator is 3-phase."
   ]
  },
  {
   "cell_type": "code",
   "execution_count": 58,
   "id": "b1f5fb8ef20c7366",
   "metadata": {
    "collapsed": false,
    "ExecuteTime": {
     "end_time": "2024-08-06T19:15:04.545274400Z",
     "start_time": "2024-08-06T19:15:04.410510600Z"
    }
   },
   "outputs": [],
   "source": [
    "dss.circuit.set_active_bus(bus)\n",
    "kv = dss.bus.kv_base * np.sqrt(3)\n",
    "gen_bus = {\"gen\": dss.bus.name}\n",
    "gen_kv = {\"gen\": kv}\n",
    "HCSteps.add_gen(dss, gen_bus, gen_kv)"
   ]
  },
  {
   "cell_type": "markdown",
   "id": "caf47768-38e5-415e-b626-19a8798743da",
   "metadata": {
    "ExecuteTime": {
     "start_time": "2024-03-30T17:57:03.797354800Z"
    }
   },
   "source": [
    "## Hosting Capacity Iterative Process\n",
    "\n",
    "The hosting capacity iterative process incrementally increases the new generator’s size and performs a power flow check for voltage violations. The process ends if there’s a thermal violation, equipment with current exceeding its thermal rating, or if the generator size reaches the maximum analyzed size, which is 10 MW.\n",
    "\n",
    "Thus, the hosting capacity corresponds to the generator size from the previous iteration before the violation."
   ]
  },
  {
   "cell_type": "code",
   "execution_count": 59,
   "id": "16132f64c6af12c6",
   "metadata": {
    "collapsed": false,
    "ExecuteTime": {
     "end_time": "2024-08-06T19:15:04.953494400Z",
     "start_time": "2024-08-06T19:15:04.415624900Z"
    }
   },
   "outputs": [],
   "source": [
    "i = 0\n",
    "while i * HCSteps.step_kw < HCSteps.max_kw:\n",
    "    i = i + 1\n",
    "    i_kw = i * HCSteps.step_kw\n",
    "    gen_kw = {\"gen\": i_kw}\n",
    "\n",
    "    # Set Penetration Level\n",
    "    HCSteps.increase_gen(dss, gen_kw)\n",
    "\n",
    "    # Perform Power flow\n",
    "    HCSteps.solve_powerflow(dss)\n",
    "\n",
    "    # Violation?\n",
    "    if HCSteps.check_thermal_violation(dss):\n",
    "        hosting_capacity_value_kw = (i - 1) * HCSteps.step_kw\n",
    "        # dss.dssinterface.datapath = f\"{script_path}\"\n",
    "        # dss.text(f\"save circuit dir=dss_circuit\")\n",
    "        break"
   ]
  },
  {
   "cell_type": "code",
   "execution_count": 60,
   "id": "d4c70e3d526845ba",
   "metadata": {
    "collapsed": false,
    "ExecuteTime": {
     "end_time": "2024-08-06T19:15:04.968069900Z",
     "start_time": "2024-08-06T19:15:04.953494400Z"
    }
   },
   "outputs": [
    {
     "name": "stdout",
     "output_type": "stream",
     "text": [
      "Hosting Capacity = 3.42 MW\n"
     ]
    }
   ],
   "source": [
    "print(f\"Hosting Capacity = {hosting_capacity_value_kw / 1000} MW\")"
   ]
  },
  {
   "cell_type": "markdown",
   "id": "c33730f6-fc07-4c0f-9407-1d899a9f23ec",
   "metadata": {
    "ExecuteTime": {
     "end_time": "2024-03-30T13:38:20.554813700Z",
     "start_time": "2024-03-30T13:38:19.150733300Z"
    },
    "collapsed": false
   },
   "source": [
    "## Hosting Capacity Result\n",
    "\n",
    "This example demonstrates how to calculate thermal rating hosting capacity using OpenDSS controlled by Python. Note that the hosting capacity result is strongly related to the feeder conditions considered for the analysis. In this case, the conditions are a load level of 20%, all generators at 100% output, and capacitors off. This scenario is likely the worst condition, and the feeder might not even operate under it. Therefore, to better represent the worst condition the feeder can actually operate under, more operational information is needed. This includes control elements, load comsumption, and generator production coincidence, which can then be considered in the hosting capacity analysis. However, sometimes this information is not available or known.\n",
    "\n",
    "More impact factors can be considered in the analysis, such as smart inverter functionalities.\n",
    "\n",
    "The model itself can also significantly impact the hosting capacity results. For instance, whether the lines are modeled as positive and negative sequences, which load and generation models are considered, etc."
   ]
  }
 ],
 "metadata": {
  "kernelspec": {
   "display_name": "Python 3 (ipykernel)",
   "language": "python",
   "name": "python3"
  },
  "language_info": {
   "codemirror_mode": {
    "name": "ipython",
    "version": 3
   },
   "file_extension": ".py",
   "mimetype": "text/x-python",
   "name": "python",
   "nbconvert_exporter": "python",
   "pygments_lexer": "ipython3",
   "version": "3.11.3"
  }
 },
 "nbformat": 4,
 "nbformat_minor": 5
}
