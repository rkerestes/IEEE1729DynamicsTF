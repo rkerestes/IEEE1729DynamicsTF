{
 "cells": [
  {
   "cell_type": "markdown",
   "source": [
    "# Steady State Over Voltage Hosting Capacity for a New Generator\n",
    "\n",
    "In this example, we calculate the hosting capacity for a new generator at bus \"bus_1101\" using the steady state over voltage (overvoltage) metric. This example uses Python to control OpenDSS.\n",
    "\n",
    "1. OpenDSS: <https://www.epri.com/pages/sa/opendss>\n",
    "2. py-dss-interface: <https://pypi.org/project/py-dss-interface/>"
   ],
   "metadata": {
    "collapsed": false
   },
   "id": "c79a405419312401"
  },
  {
   "cell_type": "markdown",
   "source": [
    "Importing third-party Python packages and modules from this repository."
   ],
   "metadata": {
    "collapsed": false
   },
   "id": "bf254c4ba236f6d6"
  },
  {
   "cell_type": "code",
   "execution_count": 58,
   "outputs": [],
   "source": [
    "# -*- coding: utf-8 -*-\n",
    "# @Author  : Paulo Radatz\n",
    "# @Email   : pradatz@epri.com"
   ],
   "metadata": {
    "collapsed": false,
    "ExecuteTime": {
     "end_time": "2024-08-19T19:53:42.881259300Z",
     "start_time": "2024-08-19T19:53:42.771601600Z"
    }
   },
   "id": "794e589688577b85"
  },
  {
   "cell_type": "code",
   "execution_count": 59,
   "outputs": [],
   "source": [
    "import py_dss_interface\n",
    "import numpy as np"
   ],
   "metadata": {
    "collapsed": false,
    "ExecuteTime": {
     "end_time": "2024-08-19T19:53:42.881557200Z",
     "start_time": "2024-08-19T19:53:42.774808200Z"
    }
   },
   "id": "ea39748ec2e02054"
  },
  {
   "cell_type": "code",
   "execution_count": 60,
   "outputs": [],
   "source": [
    "from FeederCondition import FeederCondition\n",
    "from HCSteps import HCSteps\n",
    "from HCSeetings import HCSettings"
   ],
   "metadata": {
    "collapsed": false,
    "ExecuteTime": {
     "end_time": "2024-08-19T19:53:42.882937500Z",
     "start_time": "2024-08-19T19:53:42.777943600Z"
    }
   },
   "id": "f9f3d06739808f17"
  },
  {
   "cell_type": "markdown",
   "source": [
    "## Feeder Model\n",
    "\n",
    "Hosting capacity analysis requires a feeder model. You can find the feeder used in this example at <https://github.com/rkerestes/IEEE1729DynamicsTF/tree/main/HCA/HCABase.dss>"
   ],
   "metadata": {
    "collapsed": false
   },
   "id": "4e34a68c513ad857"
  },
  {
   "cell_type": "code",
   "execution_count": 61,
   "outputs": [],
   "source": [
    "dss_file = r\"C:\\PauloRadatz\\GitHub\\IEEE1729DynamicsTF\\HCA\\HCABase.dss\""
   ],
   "metadata": {
    "collapsed": false,
    "ExecuteTime": {
     "end_time": "2024-08-19T19:53:42.900632200Z",
     "start_time": "2024-08-19T19:53:42.781870300Z"
    }
   },
   "id": "d81c069d508ac903"
  },
  {
   "cell_type": "code",
   "execution_count": 62,
   "outputs": [
    {
     "data": {
      "text/plain": "''"
     },
     "execution_count": 62,
     "metadata": {},
     "output_type": "execute_result"
    }
   ],
   "source": [
    "dss = py_dss_interface.DSS()\n",
    "dss.text(f\"compile [{dss_file}]\")\n",
    "dss.text(\"edit EnergyMeter.m2 enabled=no\")"
   ],
   "metadata": {
    "collapsed": false,
    "ExecuteTime": {
     "end_time": "2024-08-19T19:53:42.944704900Z",
     "start_time": "2024-08-19T19:53:42.784369600Z"
    }
   },
   "id": "a80b4c9eec8ec429"
  },
  {
   "cell_type": "markdown",
   "source": [
    "## Bus Selection\n",
    "\n",
    "The bus selection is indicated below."
   ],
   "metadata": {
    "collapsed": false
   },
   "id": "e804d3185ab0c303"
  },
  {
   "cell_type": "code",
   "execution_count": 63,
   "outputs": [],
   "source": [
    "bus = \"bus_1101\""
   ],
   "metadata": {
    "collapsed": false,
    "ExecuteTime": {
     "end_time": "2024-08-19T19:53:42.944704900Z",
     "start_time": "2024-08-19T19:53:42.798415800Z"
    }
   },
   "id": "ee8591e5aaf54006"
  },
  {
   "cell_type": "markdown",
   "source": [
    "## Load and Connected Generation Models\n",
    "\n",
    "In this example, generator and load models are considered constant power. You can change this in OpenDSS if desired."
   ],
   "metadata": {
    "collapsed": false
   },
   "id": "71fc2140ed3d33fc"
  },
  {
   "cell_type": "code",
   "execution_count": 64,
   "outputs": [],
   "source": [
    "FeederCondition.set_load_model(dss)\n",
    "FeederCondition.set_generator_model(dss)"
   ],
   "metadata": {
    "collapsed": false,
    "ExecuteTime": {
     "end_time": "2024-08-19T19:53:42.945702600Z",
     "start_time": "2024-08-19T19:53:42.803728200Z"
    }
   },
   "id": "e2a2ed14d32de4d6"
  },
  {
   "cell_type": "markdown",
   "source": [
    "## Feeder Condition | Hosting Capacity Impact Factors\n",
    "\n",
    "The overvoltage capacity should evaluate the voltage at each bus under worst-case conditions. In this particular case, the worst-case condition is maximum generation and minimum load. The maximum generation includes the maximum output of the new generator plus any connected generators. On the other hand, the minimum load is defined as the lowest load consumption across the entire timeframe. If more information on the coincidence of load consumption, connected generators' generation, and the new generator's generation is available, it could be taken into account to set the maximum generation and minimum load accordingly.\n",
    "\n",
    "In this case, the connected generators are assumed to generate at 100% capacity, and the minimum load is considered to be 20% of the total load.\n",
    "\n",
    "Voltage regulation equipment, such as on-load tap changers (OLTC), line regulators, and capacitors, plays a crucial role in overvoltage hosting capacity.\n",
    "\n",
    "For OLTCs and line regulators, we need to consider two aspects: first, how we want to account for the equipment's operation, and second, how we want to consider its initial condition.\n",
    "\n",
    "Regarding the operation of the equipment, we can assume it either operates or doesn't. If the new generation's active power output can change faster than the equipment's operation, we can assume they don't operate during the hosting capacity assessment. Conversely, if the new generation's active power output isn't faster than the equipment's operation, we can allow it to operate during the assessment.\n",
    "\n",
    "For the initial condition of the equipment, it's important to understand that the actual voltage of the controlled bus, under normal conditions, is within the bandwidth—a range around the voltage setpoint. The initial condition can be considered in various ways: it can be the voltage setpoint, the top or bottom of the bandwidth, or another point in between, perhaps determined by using the base case power flow results.\n",
    "\n",
    "In this example, we'll consider that the initial point is the top of the bandwidth, the worse-case condition, and the regulator is slower than the change in active power of the new generator. Therefore, it won't be allowed to operate during the hosting capacity analysis.\n",
    "\n",
    "For capacitors, we can also consider whether they are ON or OFF. We can assume the capacitor is OFF, as the minimum demand condition typically results in switched capacitors being OFF."
   ],
   "metadata": {
    "collapsed": false
   },
   "id": "fd657cfad21093ef"
  },
  {
   "cell_type": "code",
   "execution_count": 65,
   "outputs": [],
   "source": [
    "hc_settings = HCSettings(load_mult=0.2, capacitor=False, add_existing_ger=True, mult_existing_gen=1, push_reg=1)"
   ],
   "metadata": {
    "collapsed": false,
    "ExecuteTime": {
     "end_time": "2024-08-19T19:53:42.946864900Z",
     "start_time": "2024-08-19T19:53:42.806226300Z"
    }
   },
   "id": "1110e24925b33709"
  },
  {
   "cell_type": "code",
   "execution_count": 66,
   "outputs": [],
   "source": [
    "FeederCondition.set_capacitor_status(dss, capacitor=hc_settings.capacitor)\n",
    "FeederCondition.set_load_level_condition(dss, load_mult=hc_settings.load_mult)\n",
    "FeederCondition.push_regulators(dss, push_reg=hc_settings.push_reg)\n",
    "FeederCondition.consider_existing_gen(dss, hc_settings.add_existing_ger)"
   ],
   "metadata": {
    "collapsed": false,
    "ExecuteTime": {
     "end_time": "2024-08-19T19:53:42.946864900Z",
     "start_time": "2024-08-19T19:53:42.809501100Z"
    }
   },
   "id": "737e4e23984e1769"
  },
  {
   "cell_type": "markdown",
   "source": [
    "## Adding a New Generator to the Feeder Model\n",
    "\n",
    "We add a generator model as constant power to the feeder model. In this example, the generator is 3-phase."
   ],
   "metadata": {
    "collapsed": false
   },
   "id": "bd4ba5d5524b9a8c"
  },
  {
   "cell_type": "code",
   "execution_count": 67,
   "outputs": [],
   "source": [
    "dss.circuit.set_active_bus(bus)\n",
    "kv = dss.bus.kv_base * np.sqrt(3)\n",
    "gen_bus = {\"gen\": dss.bus.name}\n",
    "gen_kv = {\"gen\": kv}\n",
    "HCSteps.add_gen(dss, gen_bus, gen_kv)"
   ],
   "metadata": {
    "collapsed": false,
    "ExecuteTime": {
     "end_time": "2024-08-19T19:53:42.947596100Z",
     "start_time": "2024-08-19T19:53:42.817669900Z"
    }
   },
   "id": "eda11b205d251625"
  },
  {
   "cell_type": "markdown",
   "source": [
    "## Hosting Capacity Iterative Process\n",
    "\n",
    "The hosting capacity iterative process incrementally increases the new generator’s size and performs a power flow check for violations. The process ends if there's a voltage violation (a bus with voltage exceeding the overvoltage threshold, in this example 1.05 pu) or if the generator size reaches the maximum analyzed size (in this case, 10 MW).\n",
    "\n",
    "Thus, the hosting capacity corresponds to the generator size from the previous iteration before the violation."
   ],
   "metadata": {
    "collapsed": false
   },
   "id": "29c92f11cdaac0c"
  },
  {
   "cell_type": "code",
   "execution_count": 68,
   "outputs": [],
   "source": [
    "i = 0\n",
    "while i * HCSteps.step_kw < HCSteps.max_kw:\n",
    "    i = i + 1\n",
    "    i_kw = i * HCSteps.step_kw\n",
    "    gen_kw = {\"gen\": i_kw}\n",
    "\n",
    "    # Set Penetration Level\n",
    "    HCSteps.increase_gen(dss, gen_kw)\n",
    "\n",
    "    # Perform Power flow\n",
    "    HCSteps.solve_powerflow(dss)\n",
    "\n",
    "    # Violation?\n",
    "    if HCSteps.check_overvoltage_violation(dss):\n",
    "        hosting_capacity_value_kw = (i - 1) * HCSteps.step_kw\n",
    "        break"
   ],
   "metadata": {
    "collapsed": false,
    "ExecuteTime": {
     "end_time": "2024-08-19T19:53:42.947596100Z",
     "start_time": "2024-08-19T19:53:42.821830600Z"
    }
   },
   "id": "d0476d8cd807feff"
  },
  {
   "cell_type": "code",
   "execution_count": 69,
   "outputs": [
    {
     "name": "stdout",
     "output_type": "stream",
     "text": [
      "Hosting Capacity = 0.0 MW\n"
     ]
    }
   ],
   "source": [
    "print(f\"Hosting Capacity = {hosting_capacity_value_kw / 1000} MW\")"
   ],
   "metadata": {
    "collapsed": false,
    "ExecuteTime": {
     "end_time": "2024-08-19T19:53:42.947596100Z",
     "start_time": "2024-08-19T19:53:42.826739300Z"
    }
   },
   "id": "f9fb1c46ea386964"
  },
  {
   "cell_type": "markdown",
   "source": [
    "## Hosting Capacity Result\n",
    "\n",
    "This example demonstrates how to calculate overvoltage hosting capacity using OpenDSS controlled by Python. Note that the hosting capacity result is strongly related to the feeder conditions considered for the analysis. In this case, the conditions are a load level of 20%, all generators at 100% output, line regulator locked and with top of the bandwidth initial condition, and capacitors OFF. This scenario is likely the worst condition, and the feeder might not even operate under it. Therefore, to better represent the worst condition the feeder can actually operate under, more operational information is needed. This includes control elements, load consumption, and generator production coincidence, which can then be considered in the hosting capacity analysis. However, sometimes this information is not available or known.\n",
    "\n",
    "More impact factors can be considered in the analysis, such as smart inverter functionalities.\n",
    "\n",
    "The model itself can also impact the hosting capacity results. For instance, whether the lines are modeled as positive and negative sequences, which load and generation models are considered, etc."
   ],
   "metadata": {
    "collapsed": false
   },
   "id": "8b85aeb414405a4b"
  }
 ],
 "metadata": {
  "kernelspec": {
   "display_name": "Python 3",
   "language": "python",
   "name": "python3"
  },
  "language_info": {
   "codemirror_mode": {
    "name": "ipython",
    "version": 2
   },
   "file_extension": ".py",
   "mimetype": "text/x-python",
   "name": "python",
   "nbconvert_exporter": "python",
   "pygments_lexer": "ipython2",
   "version": "2.7.6"
  }
 },
 "nbformat": 4,
 "nbformat_minor": 5
}
